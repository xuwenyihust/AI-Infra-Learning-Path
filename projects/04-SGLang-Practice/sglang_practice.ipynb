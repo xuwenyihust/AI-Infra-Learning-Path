{
  "nbformat": 4,
  "nbformat_minor": 0,
  "metadata": {
    "colab": {
      "provenance": [],
      "gpuType": "A100"
    },
    "kernelspec": {
      "name": "python3",
      "display_name": "Python 3"
    },
    "language_info": {
      "name": "python"
    },
    "accelerator": "GPU"
  },
  "cells": [
    {
      "cell_type": "markdown",
      "source": [
        "# SGLang Practice\n",
        "\n",
        "\n",
        "*   Colab runtime type: `A100`\n",
        "\n"
      ],
      "metadata": {
        "id": "R4YS4S6I9aQU"
      }
    },
    {
      "cell_type": "markdown",
      "source": [
        "## Install SGLang"
      ],
      "metadata": {
        "id": "7Bl5jCmx9kay"
      }
    },
    {
      "cell_type": "code",
      "execution_count": 4,
      "metadata": {
        "colab": {
          "base_uri": "https://localhost:8080/"
        },
        "collapsed": true,
        "id": "fycqtIpZ9A_f",
        "outputId": "03cbaa49-9e3f-4c73-a216-f8c83396df0d"
      },
      "outputs": [
        {
          "output_type": "stream",
          "name": "stdout",
          "text": [
            "Requirement already satisfied: sglang in /usr/local/lib/python3.12/dist-packages (0.5.2)\n",
            "Requirement already satisfied: pybase64 in /usr/local/lib/python3.12/dist-packages (1.4.2)\n",
            "Requirement already satisfied: uvloop in /usr/local/lib/python3.12/dist-packages (0.21.0)\n",
            "Requirement already satisfied: partial_json_parser in /usr/local/lib/python3.12/dist-packages (0.2.1.1.post6)\n",
            "Requirement already satisfied: sgl_kernel in /usr/local/lib/python3.12/dist-packages (0.3.12)\n",
            "Requirement already satisfied: compressed_tensors in /usr/local/lib/python3.12/dist-packages (0.11.0)\n",
            "Requirement already satisfied: msgspec in /usr/local/lib/python3.12/dist-packages (0.19.0)\n",
            "Collecting xgrammar\n",
            "  Downloading xgrammar-0.1.25-cp312-cp312-manylinux_2_17_x86_64.manylinux2014_x86_64.whl.metadata (6.5 kB)\n",
            "Requirement already satisfied: aiohttp in /usr/local/lib/python3.12/dist-packages (from sglang) (3.12.15)\n",
            "Requirement already satisfied: requests in /usr/local/lib/python3.12/dist-packages (from sglang) (2.32.4)\n",
            "Requirement already satisfied: tqdm in /usr/local/lib/python3.12/dist-packages (from sglang) (4.67.1)\n",
            "Requirement already satisfied: numpy in /usr/local/lib/python3.12/dist-packages (from sglang) (2.0.2)\n",
            "Requirement already satisfied: IPython in /usr/local/lib/python3.12/dist-packages (from sglang) (7.34.0)\n",
            "Requirement already satisfied: setproctitle in /usr/local/lib/python3.12/dist-packages (from sglang) (1.3.7)\n",
            "Requirement already satisfied: torch>=1.7.0 in /usr/local/lib/python3.12/dist-packages (from compressed_tensors) (2.8.0+cu126)\n",
            "Requirement already satisfied: transformers in /usr/local/lib/python3.12/dist-packages (from compressed_tensors) (4.56.1)\n",
            "Requirement already satisfied: pydantic>=2.0 in /usr/local/lib/python3.12/dist-packages (from compressed_tensors) (2.11.9)\n",
            "Requirement already satisfied: frozendict in /usr/local/lib/python3.12/dist-packages (from compressed_tensors) (2.4.6)\n",
            "Requirement already satisfied: triton in /usr/local/lib/python3.12/dist-packages (from xgrammar) (3.4.0)\n",
            "Collecting ninja (from xgrammar)\n",
            "  Downloading ninja-1.13.0-py3-none-manylinux2014_x86_64.manylinux_2_17_x86_64.whl.metadata (5.1 kB)\n",
            "Requirement already satisfied: typing-extensions>=4.9.0 in /usr/local/lib/python3.12/dist-packages (from xgrammar) (4.15.0)\n",
            "Requirement already satisfied: annotated-types>=0.6.0 in /usr/local/lib/python3.12/dist-packages (from pydantic>=2.0->compressed_tensors) (0.7.0)\n",
            "Requirement already satisfied: pydantic-core==2.33.2 in /usr/local/lib/python3.12/dist-packages (from pydantic>=2.0->compressed_tensors) (2.33.2)\n",
            "Requirement already satisfied: typing-inspection>=0.4.0 in /usr/local/lib/python3.12/dist-packages (from pydantic>=2.0->compressed_tensors) (0.4.1)\n",
            "Requirement already satisfied: filelock in /usr/local/lib/python3.12/dist-packages (from torch>=1.7.0->compressed_tensors) (3.19.1)\n",
            "Requirement already satisfied: setuptools in /usr/local/lib/python3.12/dist-packages (from torch>=1.7.0->compressed_tensors) (75.2.0)\n",
            "Requirement already satisfied: sympy>=1.13.3 in /usr/local/lib/python3.12/dist-packages (from torch>=1.7.0->compressed_tensors) (1.13.3)\n",
            "Requirement already satisfied: networkx in /usr/local/lib/python3.12/dist-packages (from torch>=1.7.0->compressed_tensors) (3.5)\n",
            "Requirement already satisfied: jinja2 in /usr/local/lib/python3.12/dist-packages (from torch>=1.7.0->compressed_tensors) (3.1.6)\n",
            "Requirement already satisfied: fsspec in /usr/local/lib/python3.12/dist-packages (from torch>=1.7.0->compressed_tensors) (2025.3.0)\n",
            "Requirement already satisfied: nvidia-cuda-nvrtc-cu12==12.6.77 in /usr/local/lib/python3.12/dist-packages (from torch>=1.7.0->compressed_tensors) (12.6.77)\n",
            "Requirement already satisfied: nvidia-cuda-runtime-cu12==12.6.77 in /usr/local/lib/python3.12/dist-packages (from torch>=1.7.0->compressed_tensors) (12.6.77)\n",
            "Requirement already satisfied: nvidia-cuda-cupti-cu12==12.6.80 in /usr/local/lib/python3.12/dist-packages (from torch>=1.7.0->compressed_tensors) (12.6.80)\n",
            "Requirement already satisfied: nvidia-cudnn-cu12==9.10.2.21 in /usr/local/lib/python3.12/dist-packages (from torch>=1.7.0->compressed_tensors) (9.10.2.21)\n",
            "Requirement already satisfied: nvidia-cublas-cu12==12.6.4.1 in /usr/local/lib/python3.12/dist-packages (from torch>=1.7.0->compressed_tensors) (12.6.4.1)\n",
            "Requirement already satisfied: nvidia-cufft-cu12==11.3.0.4 in /usr/local/lib/python3.12/dist-packages (from torch>=1.7.0->compressed_tensors) (11.3.0.4)\n",
            "Requirement already satisfied: nvidia-curand-cu12==10.3.7.77 in /usr/local/lib/python3.12/dist-packages (from torch>=1.7.0->compressed_tensors) (10.3.7.77)\n",
            "Requirement already satisfied: nvidia-cusolver-cu12==11.7.1.2 in /usr/local/lib/python3.12/dist-packages (from torch>=1.7.0->compressed_tensors) (11.7.1.2)\n",
            "Requirement already satisfied: nvidia-cusparse-cu12==12.5.4.2 in /usr/local/lib/python3.12/dist-packages (from torch>=1.7.0->compressed_tensors) (12.5.4.2)\n",
            "Requirement already satisfied: nvidia-cusparselt-cu12==0.7.1 in /usr/local/lib/python3.12/dist-packages (from torch>=1.7.0->compressed_tensors) (0.7.1)\n",
            "Requirement already satisfied: nvidia-nccl-cu12==2.27.3 in /usr/local/lib/python3.12/dist-packages (from torch>=1.7.0->compressed_tensors) (2.27.3)\n",
            "Requirement already satisfied: nvidia-nvtx-cu12==12.6.77 in /usr/local/lib/python3.12/dist-packages (from torch>=1.7.0->compressed_tensors) (12.6.77)\n",
            "Requirement already satisfied: nvidia-nvjitlink-cu12==12.6.85 in /usr/local/lib/python3.12/dist-packages (from torch>=1.7.0->compressed_tensors) (12.6.85)\n",
            "Requirement already satisfied: nvidia-cufile-cu12==1.11.1.6 in /usr/local/lib/python3.12/dist-packages (from torch>=1.7.0->compressed_tensors) (1.11.1.6)\n",
            "Requirement already satisfied: huggingface-hub<1.0,>=0.34.0 in /usr/local/lib/python3.12/dist-packages (from transformers->compressed_tensors) (0.35.0)\n",
            "Requirement already satisfied: packaging>=20.0 in /usr/local/lib/python3.12/dist-packages (from transformers->compressed_tensors) (25.0)\n",
            "Requirement already satisfied: pyyaml>=5.1 in /usr/local/lib/python3.12/dist-packages (from transformers->compressed_tensors) (6.0.2)\n",
            "Requirement already satisfied: regex!=2019.12.17 in /usr/local/lib/python3.12/dist-packages (from transformers->compressed_tensors) (2024.11.6)\n",
            "Requirement already satisfied: tokenizers<=0.23.0,>=0.22.0 in /usr/local/lib/python3.12/dist-packages (from transformers->compressed_tensors) (0.22.0)\n",
            "Requirement already satisfied: safetensors>=0.4.3 in /usr/local/lib/python3.12/dist-packages (from transformers->compressed_tensors) (0.6.2)\n",
            "Requirement already satisfied: aiohappyeyeballs>=2.5.0 in /usr/local/lib/python3.12/dist-packages (from aiohttp->sglang) (2.6.1)\n",
            "Requirement already satisfied: aiosignal>=1.4.0 in /usr/local/lib/python3.12/dist-packages (from aiohttp->sglang) (1.4.0)\n",
            "Requirement already satisfied: attrs>=17.3.0 in /usr/local/lib/python3.12/dist-packages (from aiohttp->sglang) (25.3.0)\n",
            "Requirement already satisfied: frozenlist>=1.1.1 in /usr/local/lib/python3.12/dist-packages (from aiohttp->sglang) (1.7.0)\n",
            "Requirement already satisfied: multidict<7.0,>=4.5 in /usr/local/lib/python3.12/dist-packages (from aiohttp->sglang) (6.6.4)\n",
            "Requirement already satisfied: propcache>=0.2.0 in /usr/local/lib/python3.12/dist-packages (from aiohttp->sglang) (0.3.2)\n",
            "Requirement already satisfied: yarl<2.0,>=1.17.0 in /usr/local/lib/python3.12/dist-packages (from aiohttp->sglang) (1.20.1)\n",
            "Requirement already satisfied: jedi>=0.16 in /usr/local/lib/python3.12/dist-packages (from IPython->sglang) (0.19.2)\n",
            "Requirement already satisfied: decorator in /usr/local/lib/python3.12/dist-packages (from IPython->sglang) (4.4.2)\n",
            "Requirement already satisfied: pickleshare in /usr/local/lib/python3.12/dist-packages (from IPython->sglang) (0.7.5)\n",
            "Requirement already satisfied: traitlets>=4.2 in /usr/local/lib/python3.12/dist-packages (from IPython->sglang) (5.7.1)\n",
            "Requirement already satisfied: prompt-toolkit!=3.0.0,!=3.0.1,<3.1.0,>=2.0.0 in /usr/local/lib/python3.12/dist-packages (from IPython->sglang) (3.0.52)\n",
            "Requirement already satisfied: pygments in /usr/local/lib/python3.12/dist-packages (from IPython->sglang) (2.19.2)\n",
            "Requirement already satisfied: backcall in /usr/local/lib/python3.12/dist-packages (from IPython->sglang) (0.2.0)\n",
            "Requirement already satisfied: matplotlib-inline in /usr/local/lib/python3.12/dist-packages (from IPython->sglang) (0.1.7)\n",
            "Requirement already satisfied: pexpect>4.3 in /usr/local/lib/python3.12/dist-packages (from IPython->sglang) (4.9.0)\n",
            "Requirement already satisfied: charset_normalizer<4,>=2 in /usr/local/lib/python3.12/dist-packages (from requests->sglang) (3.4.3)\n",
            "Requirement already satisfied: idna<4,>=2.5 in /usr/local/lib/python3.12/dist-packages (from requests->sglang) (3.10)\n",
            "Requirement already satisfied: urllib3<3,>=1.21.1 in /usr/local/lib/python3.12/dist-packages (from requests->sglang) (2.5.0)\n",
            "Requirement already satisfied: certifi>=2017.4.17 in /usr/local/lib/python3.12/dist-packages (from requests->sglang) (2025.8.3)\n",
            "Requirement already satisfied: hf-xet<2.0.0,>=1.1.3 in /usr/local/lib/python3.12/dist-packages (from huggingface-hub<1.0,>=0.34.0->transformers->compressed_tensors) (1.1.10)\n",
            "Requirement already satisfied: parso<0.9.0,>=0.8.4 in /usr/local/lib/python3.12/dist-packages (from jedi>=0.16->IPython->sglang) (0.8.5)\n",
            "Requirement already satisfied: ptyprocess>=0.5 in /usr/local/lib/python3.12/dist-packages (from pexpect>4.3->IPython->sglang) (0.7.0)\n",
            "Requirement already satisfied: wcwidth in /usr/local/lib/python3.12/dist-packages (from prompt-toolkit!=3.0.0,!=3.0.1,<3.1.0,>=2.0.0->IPython->sglang) (0.2.13)\n",
            "Requirement already satisfied: mpmath<1.4,>=1.1.0 in /usr/local/lib/python3.12/dist-packages (from sympy>=1.13.3->torch>=1.7.0->compressed_tensors) (1.3.0)\n",
            "Requirement already satisfied: MarkupSafe>=2.0 in /usr/local/lib/python3.12/dist-packages (from jinja2->torch>=1.7.0->compressed_tensors) (3.0.2)\n",
            "Downloading xgrammar-0.1.25-cp312-cp312-manylinux_2_17_x86_64.manylinux2014_x86_64.whl (8.7 MB)\n",
            "\u001b[2K   \u001b[90m━━━━━━━━━━━━━━━━━━━━━━━━━━━━━━━━━━━━━━━━\u001b[0m \u001b[32m8.7/8.7 MB\u001b[0m \u001b[31m128.3 MB/s\u001b[0m eta \u001b[36m0:00:00\u001b[0m\n",
            "\u001b[?25hDownloading ninja-1.13.0-py3-none-manylinux2014_x86_64.manylinux_2_17_x86_64.whl (180 kB)\n",
            "\u001b[2K   \u001b[90m━━━━━━━━━━━━━━━━━━━━━━━━━━━━━━━━━━━━━━━━\u001b[0m \u001b[32m180.7/180.7 kB\u001b[0m \u001b[31m18.8 MB/s\u001b[0m eta \u001b[36m0:00:00\u001b[0m\n",
            "\u001b[?25hInstalling collected packages: ninja, xgrammar\n",
            "Successfully installed ninja-1.13.0 xgrammar-0.1.25\n"
          ]
        }
      ],
      "source": [
        "!pip install sglang pybase64 uvloop partial_json_parser sgl_kernel compressed_tensors msgspec xgrammar openai_harmony"
      ]
    },
    {
      "cell_type": "markdown",
      "source": [
        "## Start the SGLang Server\n"
      ],
      "metadata": {
        "id": "sn8h6XR-9m7j"
      }
    },
    {
      "cell_type": "code",
      "source": [
        "import subprocess\n",
        "import time\n",
        "\n",
        "# --- Configuration ---\n",
        "MODEL_PATH = \"TinyLlama/TinyLlama-1.1B-Chat-v1.0\"\n",
        "PORT = 30000\n",
        "\n",
        "# --- Launch Command ---\n",
        "command = [\n",
        "    \"python\",\n",
        "    \"-m\", \"sglang.launch_server\",\n",
        "    \"--model-path\", MODEL_PATH,\n",
        "    \"--port\", str(PORT)\n",
        "]\n",
        "\n",
        "# --- Start the server as a background process ---\n",
        "print(\"Starting SGLang server in the background...\")\n",
        "server_process = subprocess.Popen(command, stdout=subprocess.PIPE, stderr=subprocess.PIPE)\n",
        "print(f\"Server started with process ID: {server_process.pid}\")\n",
        "\n",
        "# Give the server a moment to initialize before proceeding\n",
        "time.sleep(10)"
      ],
      "metadata": {
        "colab": {
          "base_uri": "https://localhost:8080/"
        },
        "id": "v8V9SHro9VTM",
        "outputId": "07d4f938-ef85-4c2a-efb7-282b76319571"
      },
      "execution_count": 6,
      "outputs": [
        {
          "output_type": "stream",
          "name": "stdout",
          "text": [
            "Starting SGLang server in the background...\n",
            "Server started with process ID: 8228\n"
          ]
        }
      ]
    },
    {
      "cell_type": "markdown",
      "source": [
        "## Client Code"
      ],
      "metadata": {
        "id": "h8bGDyd3AUMP"
      }
    },
    {
      "cell_type": "code",
      "source": [
        "import sglang as sgl"
      ],
      "metadata": {
        "id": "Qwz1pDM5Hzz-"
      },
      "execution_count": 25,
      "outputs": []
    },
    {
      "cell_type": "code",
      "source": [
        "sgl.set_default_backend(sgl.OpenAI(\n",
        "    base_url=\"http://localhost:30000/v1\",\n",
        "    model_name=\"TinyLlama/TinyLlama-1.1B-Chat-v1.0\",\n",
        "    api_key=\"EMPTY\"\n",
        "))"
      ],
      "metadata": {
        "id": "w8ULNl52IBB9"
      },
      "execution_count": 28,
      "outputs": []
    },
    {
      "cell_type": "code",
      "source": [
        "@sgl.function\n",
        "def ask_a_question(s, topic): # Add a normal Python argument\n",
        "    s += sgl.user(f\"Tell me a fun fact about {topic}.\") # Use an f-string!\n",
        "    s += sgl.assistant(sgl.gen(\"fun_fact\"))"
      ],
      "metadata": {
        "id": "iUG9oEdJ9ypj"
      },
      "execution_count": 29,
      "outputs": []
    },
    {
      "cell_type": "code",
      "source": [
        "# Now we can ask about anything!\n",
        "state_mars = ask_a_question.run(topic=\"the planet Mars\")\n",
        "print(f\"state_mars: {state_mars}\\n\")\n",
        "print(f\"Mars Fact: {state_mars['fun_fact']}\\n\")"
      ],
      "metadata": {
        "id": "ls901vb09ysX",
        "colab": {
          "base_uri": "https://localhost:8080/"
        },
        "outputId": "ee6f2334-31b4-4a2d-a982-fc762e2e18e1"
      },
      "execution_count": 32,
      "outputs": [
        {
          "output_type": "stream",
          "name": "stdout",
          "text": [
            "state_mars: ProgramState(<|im_start|>user\n",
            "Tell me a fun fact about the planet Mars.<|im_end|>\n",
            "<|im_start|>assistant\n",
            "Sure, here's a fun fact about the planet Mars:\n",
            "\n",
            "Mars is the only planet in our solar system that has an atmosphere made of carbon dioxide - it's ejected into space by its magnetic field, which causes it to coagulate into the layer known as the Martian Accretion Disk.\n",
            "\n",
            "Before this layer formed, Mars was much more exposed to the Sun's heat and launched rock chunks into layers of aerosols and dust. This dust became trapped by the magnetic field and cooled, and over time, it formed the layer that we see today<|im_end|>\n",
            ")\n",
            "\n",
            "Mars Fact: Sure, here's a fun fact about the planet Mars:\n",
            "\n",
            "Mars is the only planet in our solar system that has an atmosphere made of carbon dioxide - it's ejected into space by its magnetic field, which causes it to coagulate into the layer known as the Martian Accretion Disk.\n",
            "\n",
            "Before this layer formed, Mars was much more exposed to the Sun's heat and launched rock chunks into layers of aerosols and dust. This dust became trapped by the magnetic field and cooled, and over time, it formed the layer that we see today\n",
            "\n"
          ]
        }
      ]
    }
  ]
}